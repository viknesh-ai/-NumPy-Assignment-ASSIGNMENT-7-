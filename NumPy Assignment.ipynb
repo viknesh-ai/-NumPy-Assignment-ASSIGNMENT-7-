{
 "cells": [
  {
   "cell_type": "code",
   "execution_count": 1,
   "id": "98f782ea",
   "metadata": {},
   "outputs": [
    {
     "name": "stdout",
     "output_type": "stream",
     "text": [
      "Input: Moving average of values  [3, 5, 7, 2, 8, 10, 11, 65, 72, 81, 99, 100, 150]  are :\n",
      "\n",
      "Output:\n",
      " [  5.           4.66666667   5.66666667   6.66666667   9.66666667\n",
      "  28.66666667  49.33333333  72.66666667  84.          93.33333333\n",
      " 116.33333333]\n"
     ]
    }
   ],
   "source": [
    "#SOLUTION FOR GIVEN PROBLEM STATEMENT\n",
    "import numpy as num_py\n",
    "\n",
    "# function\n",
    "def moving_average_seq(input_array,k):\n",
    "    ''' This function will return moving average in an array.'''\n",
    "    val_array=num_py.cumsum(input_array,dtype=float)    \n",
    "    val_array[3:]=val_array[3:]-val_array[:-3]\n",
    "    return val_array[3-1:]/3\n",
    "\n",
    "\n",
    "lst =[3, 5, 7, 2, 8, 10, 11, 65, 72, 81, 99, 100, 150]\n",
    "input_array = num_py.array(lst)\n",
    "    \n",
    "\n",
    "output_array=moving_average_seq(input_array,k=3)\n",
    "print(\"Input: Moving average of values \",lst,\" are :\\n\")\n",
    "print(\"Output:\\n\",output_array)"
   ]
  },
  {
   "cell_type": "code",
   "execution_count": null,
   "id": "3a99f17b",
   "metadata": {},
   "outputs": [],
   "source": []
  }
 ],
 "metadata": {
  "kernelspec": {
   "display_name": "Python 3",
   "language": "python",
   "name": "python3"
  },
  "language_info": {
   "codemirror_mode": {
    "name": "ipython",
    "version": 3
   },
   "file_extension": ".py",
   "mimetype": "text/x-python",
   "name": "python",
   "nbconvert_exporter": "python",
   "pygments_lexer": "ipython3",
   "version": "3.8.8"
  }
 },
 "nbformat": 4,
 "nbformat_minor": 5
}
